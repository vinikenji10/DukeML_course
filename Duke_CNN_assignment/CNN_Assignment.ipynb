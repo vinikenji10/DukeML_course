{
 "cells": [
  {
   "cell_type": "markdown",
   "metadata": {},
   "source": [
    "# PyTorch Assignment: Convolutional Neural Network (CNN)"
   ]
  },
  {
   "cell_type": "markdown",
   "metadata": {},
   "source": [
    "**[Duke Community Standard](http://integrity.duke.edu/standard.html): By typing your name below, you are certifying that you have adhered to the Duke Community Standard in completing this assignment.**\n",
    "\n",
    "Name: Vinicius Kenji Yamada"
   ]
  },
  {
   "cell_type": "markdown",
   "metadata": {},
   "source": [
    "### Convolutional Neural Network\n",
    "\n",
    "Adapt the CNN example for MNIST digit classfication. \n",
    "Feel free to play around with the model architecture and see how the training time/performance changes, but to begin, try the following:\n",
    "\n",
    "Image ->  \n",
    "convolution (32 3x3 filters) -> nonlinearity (ReLU) ->  \n",
    "convolution (32 3x3 filters) -> nonlinearity (ReLU) -> (2x2 max pool) ->  \n",
    "convolution (64 3x3 filters) -> nonlinearity (ReLU) ->  \n",
    "convolution (64 3x3 filters) -> nonlinearity (ReLU) -> (2x2 max pool) -> flatten ->\n",
    "fully connected (256 hidden units) -> nonlinearity (ReLU) ->  \n",
    "fully connected (10 hidden units) -> softmax \n",
    "\n",
    "Note: The CNN model might take a while to train. Depending on your machine, you might expect this to take up to half an hour. If you see your validation performance start to plateau, you can kill the training."
   ]
  },
  {
   "cell_type": "code",
   "execution_count": 22,
   "metadata": {},
   "outputs": [],
   "source": [
    "### Import Libraries ###\n",
    "import numpy as np\n",
    "import torch\n",
    "import torch.nn as nn\n",
    "import torch.nn.functional as F\n",
    "import matplotlib.pyplot as plt\n",
    "from torchvision import datasets, transforms"
   ]
  },
  {
   "cell_type": "code",
   "execution_count": 2,
   "metadata": {},
   "outputs": [
    {
     "name": "stdout",
     "output_type": "stream",
     "text": [
      "True\n",
      "0\n"
     ]
    }
   ],
   "source": [
    "### CUDA ###\n",
    "print(torch.cuda.is_available())\n",
    "print(torch.cuda.current_device())\n",
    "\n",
    "if torch.cuda.is_available():\n",
    "    device = torch.device(\"cuda\")\n",
    "else:\n",
    "    device = torch.device(\"cpu\")"
   ]
  },
  {
   "cell_type": "code",
   "execution_count": 117,
   "metadata": {
    "collapsed": true
   },
   "outputs": [],
   "source": [
    "### Model ###\n",
    "class MNIST_CNN_assingment(nn.Module):\n",
    "    def __init__(self):\n",
    "        super().__init__()\n",
    "        self.conv1 = nn.Conv2d(1, 32, kernel_size=3, padding=1)\n",
    "        self.conv2 = nn.Conv2d(32, 32, kernel_size=3, padding=1)\n",
    "        self.conv3 = nn.Conv2d(32, 64, kernel_size=3, padding=1)\n",
    "        self.conv4 = nn.Conv2d(64, 64, kernel_size=3, padding=1)\n",
    "        self.fc1 = nn.Linear(7*7*64, 256)\n",
    "        self.fc2 = nn.Linear(256, 10)\n",
    "\n",
    "\n",
    "    def forward(self, x):\n",
    "        x = self.conv1(x)\n",
    "        x = F.relu(x)\n",
    "\n",
    "        x = self.conv2(x)\n",
    "        x = F.relu(x)\n",
    "        x = F.max_pool2d(x, kernel_size=2)\n",
    "\n",
    "        x = self.conv3(x)\n",
    "        x = F.relu(x)\n",
    "        \n",
    "        x = self.conv4(x)\n",
    "        x = F.relu(x)\n",
    "        x = F.max_pool2d(x, kernel_size=2)\n",
    "\n",
    "        x = x.view(-1, 7*7*64)\n",
    "\n",
    "        x = self.fc1(x)\n",
    "        x = F.relu(x)\n",
    "\n",
    "        x = self.fc2(x)\n",
    "\n",
    "        return(x)\n",
    "    "
   ]
  },
  {
   "cell_type": "code",
   "execution_count": 148,
   "metadata": {},
   "outputs": [
    {
     "name": "stdout",
     "output_type": "stream",
     "text": [
      "Epoch 1 accuracy: 94.20%\n",
      "Epoch 2 accuracy: 98.64%\n",
      "Epoch 3 accuracy: 99.11%\n",
      "Epoch 4 accuracy: 99.26%\n",
      "Epoch 5 accuracy: 99.46%\n"
     ]
    }
   ],
   "source": [
    "### Training ###\n",
    "\n",
    "mnist_train = datasets.MNIST(root=\"./datasets\", train=True, transform=transforms.ToTensor(), download=True)\n",
    "mnist_test = datasets.MNIST(root=\"./datasets\", train=False, transform=transforms.ToTensor(), download=True)\n",
    "train_loader = torch.utils.data.DataLoader(mnist_train, batch_size=100, shuffle=True)\n",
    "test_loader = torch.utils.data.DataLoader(mnist_test, batch_size=100, shuffle=False)\n",
    "\n",
    "model = MNIST_CNN_assingment().to(device)\n",
    "\n",
    "criterion = nn.CrossEntropyLoss()\n",
    "optimizer = torch.optim.Adam(model.parameters(), lr=0.001)\n",
    "\n",
    "for epoch in range(5):\n",
    "    correct = 0\n",
    "    total = len(mnist_train)\n",
    "\n",
    "    for images, labels in train_loader:\n",
    "        images = images.to(device)\n",
    "        labels = labels.to(device)\n",
    "        optimizer.zero_grad()\n",
    "\n",
    "        x = images\n",
    "        y = model(x)\n",
    "\n",
    "        predictions = torch.argmax(y, dim=1)\n",
    "        correct += torch.sum((predictions == labels).float())\n",
    "        loss = criterion(y, labels)\n",
    "\n",
    "        loss.backward()\n",
    "        optimizer.step()\n",
    "    print(\"Epoch {} accuracy: {:.2f}%\".format(epoch+1, (correct/total)*100))"
   ]
  },
  {
   "cell_type": "code",
   "execution_count": 150,
   "metadata": {},
   "outputs": [
    {
     "name": "stdout",
     "output_type": "stream",
     "text": [
      "Test accuracy: 99.10%\n"
     ]
    }
   ],
   "source": [
    "### Testing ###\n",
    "correct = 0\n",
    "total = len(mnist_test)\n",
    "\n",
    "with torch.no_grad():\n",
    "    # Iterate through test set minibatchs \n",
    "    for index, (images, labels) in enumerate(test_loader):\n",
    "        images = images.to(device)\n",
    "        labels = labels.to(device)\n",
    "\n",
    "        # Forward pass\n",
    "        x = images  # <---- change here \n",
    "        y = model(x)\n",
    "        predictions = torch.argmax(y, dim=1)\n",
    "        correct += torch.sum((predictions == labels).float())\n",
    "\n",
    "print('Test accuracy: {:.2f}%'.format((correct/total)*100))"
   ]
  },
  {
   "cell_type": "code",
   "execution_count": 142,
   "metadata": {},
   "outputs": [],
   "source": [
    "### Individual testing ###\n",
    "def single_test(test_index, model):\n",
    "    test_image = mnist_test.data[test_index]\n",
    "    test_label = mnist_test.targets[test_index]\n",
    "\n",
    "    x = ((test_image.view(1, 1, 28, 28)).type('torch.FloatTensor')).to(device)\n",
    "    y = model(x)\n",
    "    \n",
    "    prediction = int(torch.argmax(y, dim=1))\n",
    "\n",
    "    return prediction == test_label\n",
    "\n",
    "def print_test(test_index, model):\n",
    "    test_image = mnist_test.data[test_index]\n",
    "    test_label = mnist_test.targets[test_index]\n",
    "\n",
    "    smax = nn.Softmax(dim = 1)\n",
    "\n",
    "    image_output = np.array(test_image)\n",
    "    plt.imshow(image_output, cmap = 'gray')\n",
    "    plt.show()\n",
    "\n",
    "    x = ((test_image.view(1, 1, 28, 28)).type('torch.FloatTensor')).to(device)\n",
    "    y = model(x)\n",
    "\n",
    "    prob = smax(y/1000)\n",
    "    prob_max = torch.max(prob)\n",
    "    prediction = int(torch.argmax(y, dim=1))\n",
    "\n",
    "    print(\"Prediction: {} ({:.2f}% confidence)\\n\".format(prediction, prob_max*100))\n",
    "    print(\"Probabilities: {}\\n\".format(prob))\n",
    "    print(\"Label: {}\".format(test_label))"
   ]
  },
  {
   "cell_type": "code",
   "execution_count": 143,
   "metadata": {},
   "outputs": [
    {
     "data": {
      "image/png": "[encoded data removed]",
      "text/plain": [
       "<Figure size 640x480 with 1 Axes>"
      ]
     },
     "metadata": {},
     "output_type": "display_data"
    },
    {
     "name": "stdout",
     "output_type": "stream",
     "text": [
      "Prediction: 5 (45.99% confidence)\n",
      "\n",
      "Probabilities: tensor([[0.0146, 0.0204, 0.0199, 0.3266, 0.0092, 0.4599, 0.0065, 0.0275, 0.0794,\n",
      "         0.0360]], device='cuda:0', grad_fn=<SoftmaxBackward0>)\n",
      "\n",
      "Label: 3\n"
     ]
    },
    {
     "data": {
      "image/png": "[encoded data removed]",
      "text/plain": [
       "<Figure size 640x480 with 1 Axes>"
      ]
     },
     "metadata": {},
     "output_type": "display_data"
    },
    {
     "name": "stdout",
     "output_type": "stream",
     "text": [
      "Prediction: 9 (42.99% confidence)\n",
      "\n",
      "Probabilities: tensor([[0.0078, 0.0161, 0.0198, 0.0199, 0.2828, 0.0554, 0.0203, 0.0223, 0.1259,\n",
      "         0.4299]], device='cuda:0', grad_fn=<SoftmaxBackward0>)\n",
      "\n",
      "Label: 4\n"
     ]
    },
    {
     "data": {
      "image/png": "[encoded data removed]",
      "text/plain": [
       "<Figure size 640x480 with 1 Axes>"
      ]
     },
     "metadata": {},
     "output_type": "display_data"
    },
    {
     "name": "stdout",
     "output_type": "stream",
     "text": [
      "Prediction: 2 (43.14% confidence)\n",
      "\n",
      "Probabilities: tensor([[0.0095, 0.0549, 0.4314, 0.0189, 0.2006, 0.0431, 0.1528, 0.0159, 0.0629,\n",
      "         0.0100]], device='cuda:0', grad_fn=<SoftmaxBackward0>)\n",
      "\n",
      "Label: 4\n"
     ]
    },
    {
     "data": {
      "image/png": "[encoded data removed]",
      "text/plain": [
       "<Figure size 640x480 with 1 Axes>"
      ]
     },
     "metadata": {},
     "output_type": "display_data"
    },
    {
     "name": "stdout",
     "output_type": "stream",
     "text": [
      "Prediction: 3 (44.93% confidence)\n",
      "\n",
      "Probabilities: tensor([[0.0121, 0.0530, 0.0124, 0.4493, 0.0092, 0.3626, 0.0368, 0.0085, 0.0306,\n",
      "         0.0256]], device='cuda:0', grad_fn=<SoftmaxBackward0>)\n",
      "\n",
      "Label: 5\n"
     ]
    },
    {
     "data": {
      "image/png": "[encoded data removed]",
      "text/plain": [
       "<Figure size 640x480 with 1 Axes>"
      ]
     },
     "metadata": {},
     "output_type": "display_data"
    },
    {
     "name": "stdout",
     "output_type": "stream",
     "text": [
      "Prediction: 5 (56.95% confidence)\n",
      "\n",
      "Probabilities: tensor([[0.0012, 0.0127, 0.0032, 0.3805, 0.0018, 0.5695, 0.0032, 0.0108, 0.0082,\n",
      "         0.0090]], device='cuda:0', grad_fn=<SoftmaxBackward0>)\n",
      "\n",
      "Label: 3\n"
     ]
    }
   ],
   "source": [
    "### Check incorrect predictions ###\n",
    "i = 0\n",
    "j = 0\n",
    "while (i < 5):\n",
    "    if (not single_test(j, model)):\n",
    "        print_test(j, model)\n",
    "        i += 1\n",
    "    j += 1\n",
    "    "
   ]
  }
 ],
 "metadata": {
  "kernelspec": {
   "display_name": "Python 3",
   "language": "python",
   "name": "python3"
  },
  "language_info": {
   "codemirror_mode": {
    "name": "ipython",
    "version": 3
   },
   "file_extension": ".py",
   "mimetype": "text/x-python",
   "name": "python",
   "nbconvert_exporter": "python",
   "pygments_lexer": "ipython3",
   "version": "3.10.14"
  }
 },
 "nbformat": 4,
 "nbformat_minor": 2
}
